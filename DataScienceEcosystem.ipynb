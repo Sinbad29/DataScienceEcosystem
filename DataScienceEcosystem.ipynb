{
 "cells": [
  {
   "cell_type": "markdown",
   "id": "2b27b52c-93b7-4237-ac46-89baee7747a7",
   "metadata": {},
   "source": [
    "# Data Science Tools and Ecosystem"
   ]
  },
  {
   "cell_type": "markdown",
   "id": "652c3190-9182-423e-aff0-00218ac0213f",
   "metadata": {},
   "source": [
    "In this notebook, Data Science Tools and Ecosystem are summarized."
   ]
  },
  {
   "cell_type": "markdown",
   "id": "7f9bbd19-d087-4f72-a38e-cf5bdc7fc41e",
   "metadata": {},
   "source": [
    "**Objectives :**\n",
    "\n",
    "- Identify in which Kernel your Jupyter notebook is running\n",
    "  \r",
    "- Create headings, and add text in bold and italics in Markdown\n",
    "\n",
    "- Insert links and images using Markdown notebooks"
   ]
  },
  {
   "cell_type": "markdown",
   "id": "fa36fb48-24b8-4fa2-bdf2-ffb29f29281a",
   "metadata": {},
   "source": [
    "Some of the popular languages that Data Scientists use are:\n",
    "1. Python\n",
    "2. R\n",
    "3. Julia"
   ]
  },
  {
   "cell_type": "markdown",
   "id": "03c407c2-a08c-440e-84a2-c32f6367f4ea",
   "metadata": {},
   "source": [
    "Some of the commonly used libraries used by Data Scientists include:\n",
    "- Pandas\n",
    "- Matplotlib\n",
    "- Numpy\n",
    "- Scikit Learn\n",
    "- Keras\n",
    "- ggplot2\n"
   ]
  },
  {
   "cell_type": "markdown",
   "id": "7f704df2-ae9f-4a88-b6f6-34de6ed5b681",
   "metadata": {},
   "source": [
    " Data Science Tools\n",
    "|Data Science Tools|\n",
    "|------------------|\n",
    "|Jupyter|\n",
    "|RStudio|\n",
    "|Spyder|"
   ]
  },
  {
   "attachments": {},
   "cell_type": "markdown",
   "id": "35a7588a-fa8e-44c2-8bd0-fd2306379541",
   "metadata": {},
   "source": [
    "### Below are a few examples of evaluating arithmetic expressions in Python"
   ]
  },
  {
   "cell_type": "code",
   "execution_count": 3,
   "id": "ce117ffa-75ee-4f4c-9b81-c2ccf1e9fc6a",
   "metadata": {},
   "outputs": [
    {
     "data": {
      "text/plain": [
       "17"
      ]
     },
     "execution_count": 3,
     "metadata": {},
     "output_type": "execute_result"
    }
   ],
   "source": [
    "# This a simple arithmetic expression to mutiply then add integers\n",
    "(3*4)+5"
   ]
  },
  {
   "cell_type": "code",
   "execution_count": 4,
   "id": "87013b10-5a14-463b-a9e4-6a7a4537ee84",
   "metadata": {},
   "outputs": [
    {
     "name": "stdout",
     "output_type": "stream",
     "text": [
      "3.3333333333333335\n"
     ]
    }
   ],
   "source": [
    "# This will convert 200 minutes to hours by diving by 60 :\n",
    "minutes = 200\n",
    "hour = 60\n",
    "conversion = minutes/hour\n",
    "print(conversion)"
   ]
  },
  {
   "cell_type": "markdown",
   "id": "31f38c23-64d1-4c0f-a887-8ffd4d2a47ea",
   "metadata": {},
   "source": [
    "## Author \n",
    "Damien Auvray."
   ]
  },
  {
   "cell_type": "code",
   "execution_count": null,
   "id": "195d4566-00f4-4f62-9159-d4d44c41a2da",
   "metadata": {},
   "outputs": [],
   "source": []
  }
 ],
 "metadata": {
  "kernelspec": {
   "display_name": "Python 3 (ipykernel)",
   "language": "python",
   "name": "python3"
  },
  "language_info": {
   "codemirror_mode": {
    "name": "ipython",
    "version": 3
   },
   "file_extension": ".py",
   "mimetype": "text/x-python",
   "name": "python",
   "nbconvert_exporter": "python",
   "pygments_lexer": "ipython3",
   "version": "3.11.7"
  }
 },
 "nbformat": 4,
 "nbformat_minor": 5
}
